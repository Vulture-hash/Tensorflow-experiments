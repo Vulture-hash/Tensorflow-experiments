{
  "cells": [
    {
      "cell_type": "code",
      "execution_count": null,
      "metadata": {
        "id": "M-RmQzYy0SG5"
      },
      "outputs": [],
      "source": [
        "import matplotlib.pyplot as plt\n",
        "from tensorflow.keras.datasets import fashion_mnist\n",
        "from tensorflow.keras.models import Model\n",
        "from tensorflow.keras.preprocessing.image import ImageDataGenerator\n",
        "from tensorflow.keras.layers import Dense, Flatten, MaxPooling2D, Conv2D, Input, Concatenate"
      ]
    },
    {
      "cell_type": "code",
      "execution_count": null,
      "metadata": {
        "id": "mfk3kdKj1HJO"
      },
      "outputs": [],
      "source": [
        "(x_train, y_train), (x_test, y_test) = fashion_mnist.load_data()\n",
        "x_train = x_train.reshape(-1, 28, 28, 1).astype('float32')/255\n",
        "x_test = x_test.reshape(-1, 28, 28, 1).astype('float32')/255"
      ]
    },
    {
      "cell_type": "code",
      "execution_count": null,
      "metadata": {
        "id": "j8odTNeE1qDl"
      },
      "outputs": [],
      "source": [
        "datagen = ImageDataGenerator(\n",
        "    rotation_range=2,\n",
        "    width_shift_range=0.1,\n",
        "    height_shift_range=0.1,\n",
        "    shear_range=0.3,\n",
        "    zoom_range=0.8,\n",
        ")"
      ]
    },
    {
      "cell_type": "code",
      "execution_count": 7,
      "metadata": {
        "id": "N-8et6RW3qeQ"
      },
      "outputs": [],
      "source": [
        "batch = next(datagen.flow(x_train, y_train, batch_size=5))\n",
        "for i in range(5):\n",
        "  plt.subplot(1, 5, i+1)\n",
        "  plt.imshow(batch[0][i].reshape(28,28), cmap='gray')\n",
        "  plt.axis('off')\n",
        "plt.show()"
      ]
    },
    {
      "cell_type": "code",
      "execution_count": null,
      "metadata": {
        "id": "X-whYKnW4MID"
      },
      "outputs": [],
      "source": [
        "input = Input(shape=( 28, 28, 1))\n",
        "input_A = Conv2D(32, kernel_size=(3, 3))(input)\n",
        "input_A = MaxPooling2D()(input_A)\n",
        "input_A = Flatten()(input_A)\n",
        "\n",
        "input_B = Conv2D(32, kernel_size=(3, 3))(input)\n",
        "input_B = MaxPooling2D()(input_B)\n",
        "input_B = Flatten()(input_B)\n",
        "\n",
        "merged = Concatenate()([input_A, input_B])\n",
        "\n",
        "x = Dense(64, activation='relu')(merged)\n",
        "output = Dense(10, activation='softmax')(x)\n",
        "\n",
        "model = Model(inputs=input, outputs=output)\n",
        "model.compile(optimizer='adam', loss ='sparse_categorical_crossentropy', metrics=['accuracy'])"
      ]
    },
    {
      "cell_type": "code",
      "execution_count": 1,
      "metadata": {
        "id": "zpJY05qLbCtK"
      },
      "outputs": [],
      "source": [
        "model.fit(\n",
        "    datagen.flow(x_train, y_train, batch_size=32),\n",
        "    epochs=10,\n",
        "    validation_data = (x_test, y_test)\n",
        ")"
      ]
    }
  ],
  "metadata": {
    "colab": {
      "provenance": []
    },
    "kernelspec": {
      "display_name": "Python 3",
      "name": "python3"
    },
    "language_info": {
      "name": "python"
    }
  },
  "nbformat": 4,
  "nbformat_minor": 0
}