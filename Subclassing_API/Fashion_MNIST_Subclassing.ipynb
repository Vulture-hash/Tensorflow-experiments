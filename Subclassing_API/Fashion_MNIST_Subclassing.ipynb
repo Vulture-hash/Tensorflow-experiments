{
  "nbformat": 4,
  "nbformat_minor": 0,
  "metadata": {
    "colab": {
      "provenance": []
    },
    "kernelspec": {
      "name": "python3",
      "display_name": "Python 3"
    },
    "language_info": {
      "name": "python"
    }
  },
  "cells": [
    {
      "cell_type": "code",
      "execution_count": null,
      "metadata": {
        "id": "fUTWgRvuE9Sx"
      },
      "outputs": [],
      "source": [
        "from tensorflow.keras.models import Model\n",
        "from tensorflow.keras.layers import Dense, Conv2D, MaxPooling2D, Flatten, Dropout, BatchNormalization\n",
        "from tensorflow.keras.preprocessing.image import ImageDataGenerator\n",
        "from tensorflow.keras.datasets import fashion_mnist"
      ]
    },
    {
      "cell_type": "code",
      "source": [
        "(x_train, y_train), (x_test, y_test) = fashion_mnist.load_data()\n",
        "x_train = x_train.reshape(-1, 28, 28, 1).astype('float32')/255\n",
        "x_test = x_test.reshape(-1, 28, 28, 1).astype('float32')/255"
      ],
      "metadata": {
        "id": "WHFdTMnnSADn"
      },
      "execution_count": 1,
      "outputs": []
    },
    {
      "cell_type": "code",
      "source": [
        "datagen = ImageDataGenerator(\n",
        "    rotation_range=2,\n",
        "    width_shift_range=0.2,\n",
        "    height_shift_range=0.2,\n",
        "    zoom_range=0.2,\n",
        "    shear_range=0.2\n",
        ")"
      ],
      "metadata": {
        "id": "qP1hZMEdUaHZ"
      },
      "execution_count": null,
      "outputs": []
    },
    {
      "cell_type": "code",
      "source": [
        "class FashionMnist(Model):\n",
        "  def __init__(self):\n",
        "    super(FashionMnist, self).__init__()\n",
        "\n",
        "    self.conv1 = Conv2D(32, kernel_size=(3, 3), activation='relu')\n",
        "    self.pool1 = MaxPooling2D(pool_size=(2, 2))\n",
        "    self.dropout1 = Dropout(rate=0.25)\n",
        "    self.batch1 = BatchNormalization()\n",
        "\n",
        "    self.conv2 = Conv2D(64, kernel_size=(3, 3), activation='relu')\n",
        "    self.pool2 = MaxPooling2D(pool_size=(2, 2))\n",
        "    self.dropout2 = Dropout(0.25)\n",
        "    self.batch2 = BatchNormalization()\n",
        "\n",
        "    self.flatten = Flatten()\n",
        "    self.dense1 = Dense(128, activation='relu')\n",
        "    self.dropout3 = Dropout(0.5)\n",
        "    self.output_layer = Dense(10, activation='softmax')\n",
        "\n",
        "  def call(self,inputs, training=False):\n",
        "    x = self.conv1(inputs)\n",
        "    x = self.pool1(x)\n",
        "    x = self.dropout1(x, training=training)\n",
        "    x = self.batch1(x)\n",
        "\n",
        "    x = self.conv2(x)\n",
        "    x = self.pool2(x)\n",
        "    x = self.dropout2(x, training=training)\n",
        "    x = self.batch2(x)\n",
        "\n",
        "    x = self.flatten(x)\n",
        "    x = self.dense1(x)\n",
        "    x = self.dropout3(x)\n",
        "\n",
        "    return self.output_layer(x)"
      ],
      "metadata": {
        "id": "vFwTXvMFFVin"
      },
      "execution_count": null,
      "outputs": []
    },
    {
      "cell_type": "code",
      "source": [
        "model = FashionMnist()\n",
        "steps_per_epochs = len(x_train) // 32\n",
        "model.compile(optimizer='adam', loss='sparse_categorical_crossentropy', metrics=['accuracy'])\n",
        "model.fit(\n",
        "    datagen.flow( x_train, y_train, batch_size=32),\n",
        "    validation_data=(x_test, y_test),\n",
        "    steps_per_epoch = steps_per_epochs,\n",
        "    epochs = 10\n",
        ")"
      ],
      "metadata": {
        "id": "B3uwZybNRYyl"
      },
      "execution_count": 2,
      "outputs": []
    }
  ]
}